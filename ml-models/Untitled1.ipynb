{
 "cells": [
  {
   "cell_type": "code",
   "execution_count": 2,
   "id": "d52bf971-4d01-4763-8f61-65b187e162af",
   "metadata": {},
   "outputs": [],
   "source": [
    "import os\n",
    "import pandas as pd\n",
    "\n",
    "folder = \"processed/\"\n",
    "files = [f for f in os.listdir(folder) if f.endswith(\".csv\")]\n",
    "\n",
    "dfs = []\n",
    "for file in files:\n",
    "    df = pd.read_csv(os.path.join(folder, file))\n",
    "    df['pair'] = file.split('_')[0].upper()  # e.g., 'EURUSD'\n",
    "    dfs.append(df)\n",
    "\n",
    "combined_df = pd.concat(dfs, ignore_index=True)\n",
    "combined_df['datetime'] = pd.to_datetime(combined_df['datetime'])\n",
    "combined_df = combined_df.sort_values(['pair', 'datetime']).dropna()\n",
    "combined_df.to_csv(\"all_currencies_combined.csv\", index=False)"
   ]
  },
  {
   "cell_type": "code",
   "execution_count": null,
   "id": "5f74ed48-8583-4def-8003-3e75cd880443",
   "metadata": {},
   "outputs": [],
   "source": []
  }
 ],
 "metadata": {
  "kernelspec": {
   "display_name": "Python (tf310)",
   "language": "python",
   "name": "tf310"
  },
  "language_info": {
   "codemirror_mode": {
    "name": "ipython",
    "version": 3
   },
   "file_extension": ".py",
   "mimetype": "text/x-python",
   "name": "python",
   "nbconvert_exporter": "python",
   "pygments_lexer": "ipython3",
   "version": "3.10.18"
  }
 },
 "nbformat": 4,
 "nbformat_minor": 5
}
